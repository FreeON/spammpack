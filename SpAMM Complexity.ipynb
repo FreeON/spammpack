{
 "metadata": {
  "name": ""
 },
 "nbformat": 3,
 "nbformat_minor": 0,
 "worksheets": [
  {
   "cells": [
    {
     "cell_type": "code",
     "collapsed": false,
     "input": [
      "import math\n",
      "import numpy\n",
      "\n",
      "def blockmul (A, BLOCK_SIZE):\n",
      "    \"\"\"\n",
      "    Square a matrix in blocks and count the number of operations.\n",
      "    \"\"\"\n",
      "    \n",
      "    N = A.shape[0]\n",
      "    N_padded = N\n",
      "    if N%BLOCK_SIZE > 0:\n",
      "        N_padded += BLOCK_SIZE-N%BLOCK_SIZE\n",
      "\n",
      "    A_padded = numpy.matrix(numpy.zeros((N_padded, N_padded), dtype=A.dtype))\n",
      "    A_padded[0:N, 0:N] = A\n",
      "\n",
      "    number_operations = 0\n",
      "    A2 = numpy.matrix(numpy.zeros((N_padded, N_padded), dtype=A.dtype))\n",
      "    for i in range(0, N_padded, BLOCK_SIZE):\n",
      "        for j in range(0, N_padded, BLOCK_SIZE):\n",
      "            for k in range(0, N_padded, BLOCK_SIZE):\n",
      "                norm_A = numpy.linalg.norm(A_padded[i:i+BLOCK_SIZE, k:k+BLOCK_SIZE], 'fro')\n",
      "                norm_B = numpy.linalg.norm(A_padded[k:k+BLOCK_SIZE, j:j+BLOCK_SIZE], 'fro')\n",
      "                if norm_A*norm_B > 0:\n",
      "                    number_operations += BLOCK_SIZE**3\n",
      "                    A2[i:i+BLOCK_SIZE, j:j+BLOCK_SIZE] += (A_padded[i:i+BLOCK_SIZE, k:k+BLOCK_SIZE]\n",
      "                                                           *A_padded[k:k+BLOCK_SIZE, j:j+BLOCK_SIZE])\n",
      "                \n",
      "    return ( A2[0:N, 0:N], number_operations )\n",
      "\n",
      "def nonzeros (A):\n",
      "    \"\"\"\n",
      "    Count the number of nonzeros in the matrix.\n",
      "    \"\"\"\n",
      "    \n",
      "    return numpy.sum( [ 1 for i in range(N**2) if A.reshape((N**2))[0, i] != 0 ] )\n",
      "    \n",
      "N = 129\n",
      "BLOCK_SIZE = 4\n",
      "BANDWIDTH = 4\n",
      "ITERATIONS = 5\n",
      "\n",
      "A = numpy.matrix(numpy.zeros((N, N), dtype=float))\n",
      "\n",
      "for i in range(N):\n",
      "    for j in range(N):\n",
      "        if abs(i-j) <= BANDWIDTH:\n",
      "            A[i, j] = 1/N**(1/2)\n",
      "\n",
      "print(\"N = %d, BLOCK_SIZE = %d, BANDWIDTH = %d\" % (N, BLOCK_SIZE, BANDWIDTH))\n",
      "print(\"number non-zeros = %d -> %1.2f%% fill-in\" % (nonzeros(A), nonzeros(A)/N**2))\n",
      "\n",
      "for i in range(ITERATIONS):\n",
      "    A2, number_operations = blockmul(A, BLOCK_SIZE)\n",
      "    if abs(numpy.sum(A**2-A2)) > 1e-10:\n",
      "        print(A**2-A2)\n",
      "        raise Exception(\"incorrect matrix product\")\n",
      "\n",
      "    A = A**2\n",
      "\n",
      "    print(\"%d: number non-zeros = %d -> %1.2f%% fill-in\" % (i+1, nonzeros(A), nonzeros(A)/N**2))\n",
      "    print(\"%d: N^3 = %d\" % (i+1, N**3))\n",
      "    print(\"%d: SpAMM = %d\" % (i+1, number_operations))\n",
      "    print(\"%d: SpAMM/N^3 = %f\" % (i+1, number_operations/N**3))\n",
      "    print(\"%d: norm = %f\" % (i+1, numpy.linalg.norm(A, 'fro')))"
     ],
     "language": "python",
     "metadata": {},
     "outputs": [
      {
       "output_type": "stream",
       "stream": "stdout",
       "text": [
        "N = 129, BLOCK_SIZE = 4, BANDWIDTH = 4\n",
        "number non-zeros = 1141 -> 0.07% fill-in"
       ]
      },
      {
       "output_type": "stream",
       "stream": "stdout",
       "text": [
        "\n",
        "1: number non-zeros = 2121 -> 0.13% fill-in"
       ]
      },
      {
       "output_type": "stream",
       "stream": "stdout",
       "text": [
        "\n",
        "1: N^3 = 2146689\n",
        "1: SpAMM = 18368\n",
        "1: SpAMM/N^3 = 0.008556\n",
        "1: norm = 1.917426\n",
        "2: number non-zeros = 3985 -> 0.24% fill-in"
       ]
      },
      {
       "output_type": "stream",
       "stream": "stdout",
       "text": [
        "\n",
        "2: N^3 = 2146689\n",
        "2: SpAMM = 49600\n",
        "2: SpAMM/N^3 = 0.023105\n",
        "2: norm = 1.009810\n",
        "3: number non-zeros = 7329 -> 0.44% fill-in"
       ]
      },
      {
       "output_type": "stream",
       "stream": "stdout",
       "text": [
        "\n",
        "3: N^3 = 2146689\n",
        "3: SpAMM = 151872\n",
        "3: SpAMM/N^3 = 0.070747\n",
        "3: norm = 0.331219\n",
        "4: number non-zeros = 12481 -> 0.75% fill-in"
       ]
      },
      {
       "output_type": "stream",
       "stream": "stdout",
       "text": [
        "\n",
        "4: N^3 = 2146689\n",
        "4: SpAMM = 479808\n",
        "4: SpAMM/N^3 = 0.223511\n",
        "4: norm = 0.042413\n",
        "5: number non-zeros = 16641 -> 1.00% fill-in"
       ]
      },
      {
       "output_type": "stream",
       "stream": "stdout",
       "text": [
        "\n",
        "5: N^3 = 2146689\n",
        "5: SpAMM = 1342528\n",
        "5: SpAMM/N^3 = 0.625395\n",
        "5: norm = 0.000834\n"
       ]
      }
     ],
     "prompt_number": 176
    },
    {
     "cell_type": "code",
     "collapsed": false,
     "input": [],
     "language": "python",
     "metadata": {},
     "outputs": []
    }
   ],
   "metadata": {}
  }
 ]
}