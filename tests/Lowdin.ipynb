{
 "metadata": {
  "name": ""
 },
 "nbformat": 3,
 "nbformat_minor": 0,
 "worksheets": [
  {
   "cells": [
    {
     "cell_type": "code",
     "collapsed": false,
     "input": [
      "import numpy\n",
      "\n",
      "S = numpy.matrix([\n",
      "  [ 2.263E-01, 1.991E-01, 3.086E-01, 4.942E-01, 3.409E-01],\n",
      "  [ 1.991E-01, 7.264E-01, 6.258E-01, 5.923E-01, 5.284E-01],\n",
      "  [ 3.086E-01, 6.258E-01, 7.201E-01, 7.445E-01, 4.964E-01],\n",
      "  [ 4.942E-01, 5.923E-01, 7.445E-01, 1.252E+00, 8.759E-01],\n",
      "  [ 3.409E-01, 5.284E-01, 4.964E-01, 8.759E-01, 8.980E-01]\n",
      "  ])"
     ],
     "language": "python",
     "metadata": {},
     "outputs": [],
     "prompt_number": 1
    },
    {
     "cell_type": "code",
     "collapsed": false,
     "input": [
      "N = S.shape[0]\n",
      "\n",
      "Z_1 = numpy.matrix(numpy.identity(N))\n",
      "Y_1 = S\n",
      "\n",
      "print(\"Z_1:\")\n",
      "print(Z_1)\n",
      "\n",
      "print(\"Y_1:\")\n",
      "print(Y_1)\n",
      "\n",
      "l = numpy.linalg.norm(S, 'fro')\n",
      "print(\"lambda = %d\" % (l))\n",
      "\n",
      "for i in range(1):\n",
      "    \n",
      "    X = l*Y_1*Z_1\n",
      "    print(\"X_%d\" % (i+1))\n",
      "    print(X)\n",
      "    \n",
      "    e = numpy.linalg.norm(X-numpy.identity(N), 'fro')\n",
      "    print(\"error = %e\" % (e))\n",
      "    \n",
      "    T = 1/2*(3*numpy.identity(N)-X)"
     ],
     "language": "python",
     "metadata": {},
     "outputs": [
      {
       "output_type": "stream",
       "stream": "stdout",
       "text": [
        "Z_1:\n",
        "[[ 1.  0.  0.  0.  0.]\n",
        " [ 0.  1.  0.  0.  0.]\n",
        " [ 0.  0.  1.  0.  0.]\n",
        " [ 0.  0.  0.  1.  0.]\n",
        " [ 0.  0.  0.  0.  1.]]\n",
        "Y_1:\n",
        "[[ 0.2263  0.1991  0.3086  0.4942  0.3409]\n",
        " [ 0.1991  0.7264  0.6258  0.5923  0.5284]\n",
        " [ 0.3086  0.6258  0.7201  0.7445  0.4964]\n",
        " [ 0.4942  0.5923  0.7445  1.252   0.8759]\n",
        " [ 0.3409  0.5284  0.4964  0.8759  0.898 ]]\n",
        "lambda = 3\n",
        "X_1\n",
        "[[ 0.70266256  0.61820643  0.95820445  1.53449332  1.0584961 ]\n",
        " [ 0.61820643  2.25547541  1.94311193  1.83909428  1.64068448]\n",
        " [ 0.95820445  1.94311193  2.23591388  2.31167599  1.54132433]\n",
        " [ 1.53449332  1.83909428  2.31167599  3.88746587  2.71967361]\n",
        " [ 1.0584961   1.64068448  1.54132433  2.71967361  2.78829421]]\n",
        "error = 8.614540e+00\n"
       ]
      }
     ],
     "prompt_number": 20
    },
    {
     "cell_type": "code",
     "collapsed": false,
     "input": [
      "Z_1"
     ],
     "language": "python",
     "metadata": {},
     "outputs": [
      {
       "metadata": {},
       "output_type": "pyout",
       "prompt_number": 6,
       "text": [
        "matrix([[ 1.,  0.,  0.,  0.,  0.],\n",
        "        [ 0.,  1.,  0.,  0.,  0.],\n",
        "        [ 0.,  0.,  1.,  0.,  0.],\n",
        "        [ 0.,  0.,  0.,  1.,  0.],\n",
        "        [ 0.,  0.,  0.,  0.,  1.]])"
       ]
      }
     ],
     "prompt_number": 6
    },
    {
     "cell_type": "code",
     "collapsed": false,
     "input": [],
     "language": "python",
     "metadata": {},
     "outputs": []
    }
   ],
   "metadata": {}
  }
 ]
}